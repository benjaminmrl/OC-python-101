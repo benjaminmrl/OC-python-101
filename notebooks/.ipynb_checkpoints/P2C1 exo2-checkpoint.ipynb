{
 "cells": [
  {
   "attachments": {},
   "cell_type": "markdown",
   "metadata": {},
   "source": [
    "![openclassrooms](https://s3.eu-west-1.amazonaws.com/course.oc-static.com/courses/6204541/1+HnqdJ-5ofxiPP9HIxdNdpw.jpeg)\n",
    "\n",
    "# Initiez-vous à Python pour l'analyse de données\n",
    "\n",
    "## Déclarez une variable\n",
    "\n",
    "1. Exécutez le code suivant pour afficher la valeur de nos économies\n",
    "2. Modifiez la ligne `economies = economies + 500` en dessous du `# A FAIRE` en commentaire, en utilisant l'opérateur simplifié `+=`\n",
    "3. Exécutez le code à nouveau pour voir le résultat du calcul"
   ]
  },
  {
   "cell_type": "code",
   "execution_count": null,
   "metadata": {},
   "outputs": [],
   "source": [
    "compte = 200\n",
    "economies = 3000\n",
    "    \n",
    "# A FAIRE: modifiez la ligne suivante avec l'opérateur simplifié +=\n",
    "economies = economies + 500\n",
    "\n",
    "print(\"Vos économies sont de: \", economies)"
   ]
  },
  {
   "cell_type": "code",
   "execution_count": null,
   "metadata": {},
   "outputs": [],
   "source": []
  }
 ],
 "metadata": {
  "kernelspec": {
   "display_name": "Python 3",
   "language": "python",
   "name": "python3"
  },
  "language_info": {
   "codemirror_mode": {
    "name": "ipython",
    "version": 3
   },
   "file_extension": ".py",
   "mimetype": "text/x-python",
   "name": "python",
   "nbconvert_exporter": "python",
   "pygments_lexer": "ipython3",
   "version": "3.8.5"
  }
 },
 "nbformat": 4,
 "nbformat_minor": 4
}
