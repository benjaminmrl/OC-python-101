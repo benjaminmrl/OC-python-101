{
 "cells": [
  {
   "cell_type": "markdown",
   "metadata": {},
   "source": [
    "![openclassrooms](https://s3.eu-west-1.amazonaws.com/course.oc-static.com/courses/6204541/1+HnqdJ-5ofxiPP9HIxdNdpw.jpeg)\n",
    "\n",
    "# Initiez-vous à Python pour l'analyse de données\n",
    "\n",
    "## Choisissez la boucle adéquate\n",
    "\n",
    "<br><br>\n",
    "\n",
    "**La boucle WHILE : “bouclez” selon une condition**\n",
    "\n",
    "Créez une boucle `for` qui va afficher : 'OpenClassRooms est vraiment top !' 5 fois"
   ]
  },
  {
   "cell_type": "code",
   "execution_count": 1,
   "metadata": {},
   "outputs": [
    {
     "name": "stdout",
     "output_type": "stream",
     "text": [
      "OpenClassRooms est vraiment top !\n",
      "OpenClassRooms est vraiment top !\n",
      "OpenClassRooms est vraiment top !\n",
      "OpenClassRooms est vraiment top !\n",
      "OpenClassRooms est vraiment top !\n"
     ]
    }
   ],
   "source": [
    "for i in range(5):\n",
    "    print(\"OpenClassRooms est vraiment top !\")"
   ]
  },
  {
   "cell_type": "markdown",
   "metadata": {},
   "source": [
    "Changez votre boucle `for` par une boucle `while` :"
   ]
  },
  {
   "cell_type": "code",
   "execution_count": 2,
   "metadata": {},
   "outputs": [
    {
     "name": "stdout",
     "output_type": "stream",
     "text": [
      "OpenClassRooms est vraiment top !\n",
      "OpenClassRooms est vraiment top !\n",
      "OpenClassRooms est vraiment top !\n",
      "OpenClassRooms est vraiment top !\n",
      "OpenClassRooms est vraiment top !\n"
     ]
    }
   ],
   "source": [
    "i = 0\n",
    "while i < 5:\n",
    "    print(\"OpenClassRooms est vraiment top !\")\n",
    "    i += 1"
   ]
  },
  {
   "cell_type": "markdown",
   "metadata": {},
   "source": []
  }
 ],
 "metadata": {
  "kernelspec": {
   "display_name": "Python 3",
   "language": "python",
   "name": "python3"
  },
  "language_info": {
   "codemirror_mode": {
    "name": "ipython",
    "version": 3
   },
   "file_extension": ".py",
   "mimetype": "text/x-python",
   "name": "python",
   "nbconvert_exporter": "python",
   "pygments_lexer": "ipython3",
   "version": "3.8.5"
  }
 },
 "nbformat": 4,
 "nbformat_minor": 4
}
